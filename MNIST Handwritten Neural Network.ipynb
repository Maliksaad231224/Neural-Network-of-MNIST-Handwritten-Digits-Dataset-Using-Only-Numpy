{
 "cells": [
  {
   "cell_type": "markdown",
   "metadata": {},
   "source": [
    "**IMPORTING MODULES**\n",
    "\n",
    "Numpy: For Mathematical Operations\n",
    "\n",
    "Pandas: For Dataframe Manipulation\n",
    "\n",
    "Matplotlib: For Data Visullization \n"
   ]
  },
  {
   "cell_type": "code",
   "execution_count": 1,
   "metadata": {},
   "outputs": [],
   "source": [
    "import matplotlib.pyplot as plt \n",
    "import pandas as pd\n",
    "import numpy as np\n"
   ]
  },
  {
   "cell_type": "markdown",
   "metadata": {},
   "source": [
    "**MNIST** (\"Modified National Institute of Standards and Technology\") is the de facto “hello world” dataset of computer vision. Since its release in 1999, this classic dataset of handwritten images has served as the basis for benchmarking classification algorithms. As new machine learning techniques emerge, MNIST remains a reliable resource for researchers and learners alike."
   ]
  },
  {
   "cell_type": "code",
   "execution_count": 2,
   "metadata": {},
   "outputs": [],
   "source": [
    "df=pd.read_csv('handwritten.csv')"
   ]
  },
  {
   "cell_type": "code",
   "execution_count": 3,
   "metadata": {},
   "outputs": [
    {
     "data": {
      "text/plain": [
       "label       0\n",
       "pixel0      0\n",
       "pixel1      0\n",
       "pixel2      0\n",
       "pixel3      0\n",
       "           ..\n",
       "pixel779    0\n",
       "pixel780    0\n",
       "pixel781    0\n",
       "pixel782    0\n",
       "pixel783    0\n",
       "Length: 785, dtype: int64"
      ]
     },
     "execution_count": 3,
     "metadata": {},
     "output_type": "execute_result"
    }
   ],
   "source": [
    "df.isnull().sum()"
   ]
  },
  {
   "cell_type": "markdown",
   "metadata": {},
   "source": [
    "**Initialization Dimensions**"
   ]
  },
  {
   "cell_type": "code",
   "execution_count": 4,
   "metadata": {},
   "outputs": [],
   "source": [
    "df=np.array(df)\n",
    "m,n=df.shape\n",
    "np.random.shuffle(df)\n",
    "data_dev=df[0:1000].T\n",
    "Y_dev=data_dev[0]\n",
    "X_dev=data_dev[1:n]\n",
    " \n",
    "data_train=df[1000:m].T\n",
    "Y_train=data_train[0]\n",
    "X_train=data_train[1:n]\n",
    "\n",
    "X_train=X_train/255\n",
    "_,m_train = X_train.shape\n",
    "\n",
    "def init_para():\n",
    "    w1=np.random.rand(10,784)-0.5 #to get values between 0.5 and -0.5\n",
    "    b1=np.random.rand(10,1)-0.5\n",
    "    w2=np.random.rand(10,10)-0.5 #to get values between 0.5 and -0.5\n",
    "    b2=np.random.rand(10,1)-0.5\n",
    "    return w1,b1,w2,b2\n"
   ]
  },
  {
   "cell_type": "code",
   "execution_count": 5,
   "metadata": {},
   "outputs": [
    {
     "data": {
      "text/plain": [
       "array([8, 3, 4, ..., 8, 2, 5])"
      ]
     },
     "execution_count": 5,
     "metadata": {},
     "output_type": "execute_result"
    }
   ],
   "source": [
    "Y_train"
   ]
  },
  {
   "cell_type": "markdown",
   "metadata": {},
   "source": [
    "**Building The Neural Network**"
   ]
  },
  {
   "cell_type": "code",
   "execution_count": 6,
   "metadata": {},
   "outputs": [],
   "source": [
    "\n",
    "def relu(z1):\n",
    "    return np.maximum(z1,0)\n",
    "\n",
    "\n",
    "def softmax(z):\n",
    "    expZ = np.exp(z - np.max(z))\n",
    "    return expZ / expZ.sum(axis=0, keepdims=True)\n",
    "\n",
    "\n",
    "def forward_prop(W1, b1, W2, b2, X):\n",
    "    Z1 = W1.dot(X) + b1\n",
    "    A1 = relu(Z1)\n",
    "    Z2 = W2.dot(A1) + b2\n",
    "    A2 = softmax(Z2)\n",
    "    return Z1, A1, Z2, A2\n",
    "\n",
    "\n",
    "def one_hot(z):\n",
    "    one_hot=np.zeros((z.size,z.max()+1)) #initializes a tuple of 0s , z.max()+1 assumes classes are from 0 to 9\n",
    "    one_hot[np.arange(z.size),z]=1#initializes an array of training examples of 0s to labels. \n",
    "    #for each row , moves through the column specified and set it to 1\n",
    "    return one_hot.T\n",
    "\n",
    "def relu_deriv(z):\n",
    "    return z>0\n",
    "\n",
    "\n",
    "def backprop(z1,a1,z2,a2,w1,w2,X,y):\n",
    "    m-y.size\n",
    "    one_hot_y=one_hot(y)\n",
    "    dz2=a2-one_hot_y\n",
    "    dw2=1/m*(dz2.dot(a1.T))\n",
    "    db2=1/m*(np.sum(dz2,axis=1,keepdims=True))\n",
    "    dz1=w2.T.dot(dz2) * relu_deriv(z1)\n",
    "\n",
    "    dw1=1/m*(dz1.dot(X.T))\n",
    "    db1=1/m*(np.sum(dz1,axis=1,keepdims=True))\n",
    "\n",
    "    return dw1,db1, dw2,db2\n",
    "\n",
    "def update_params(w1,b1,w2,b2,dw1,db1,dw2,db2,alpha):\n",
    "    w1=w1-alpha*dw1\n",
    "    b1=b1-alpha*db1\n",
    "    w2=w2-alpha*dw2\n",
    "    b2=b2-alpha*db2\n",
    "    return w1,b1,w2,b2\n"
   ]
  },
  {
   "cell_type": "code",
   "execution_count": 7,
   "metadata": {},
   "outputs": [],
   "source": [
    "def get_predict(a2):\n",
    "    return np.argmax(a2,0)#returns indexes of max value in each column\n",
    "\n",
    "def accuracy(prediction,y):\n",
    "    \n",
    "    return np.sum(prediction==y)/y.size\n",
    "\n",
    "\n",
    "def gradiant_descent(X,y,iterations,alpha):\n",
    "    w1,b1,w2,b2=init_para()\n",
    "    for i in range(iterations):\n",
    "        z1,a1,z2,a2=forward_prop(w1,b1,w2,b2,X)\n",
    "        dw1,db1,dw2,db2=backprop(z1,a1,z2,a2,w1,w2,X,y)\n",
    "        w1,b1,w2,b2=update_params(w1,b1,w2,b2,dw1,db1,dw2,db2,alpha)\n",
    "        if i%10==0:\n",
    "            print(\"iterations\",i)\n",
    "            prediction=get_predict(a2)\n",
    "            print(\"accuracy\",accuracy(prediction,y))\n",
    "\n",
    "    return w1,b1,w2,b2\n",
    "\n",
    "    "
   ]
  },
  {
   "cell_type": "markdown",
   "metadata": {},
   "source": [
    "**Model Training**\n",
    "\n",
    "Training the model with 600 Iterations and a learning rate of 0.1"
   ]
  },
  {
   "cell_type": "code",
   "execution_count": 8,
   "metadata": {},
   "outputs": [
    {
     "name": "stdout",
     "output_type": "stream",
     "text": [
      "iterations 0\n",
      "accuracy 0.0702439024390244\n",
      "iterations 10\n",
      "accuracy 0.09704878048780488\n",
      "iterations 20\n",
      "accuracy 0.16687804878048781\n",
      "iterations 30\n",
      "accuracy 0.2529512195121951\n",
      "iterations 40\n",
      "accuracy 0.3788048780487805\n",
      "iterations 50\n",
      "accuracy 0.46434146341463417\n",
      "iterations 60\n",
      "accuracy 0.5178048780487805\n",
      "iterations 70\n",
      "accuracy 0.5588780487804879\n",
      "iterations 80\n",
      "accuracy 0.5927560975609756\n",
      "iterations 90\n",
      "accuracy 0.6229024390243902\n",
      "iterations 100\n",
      "accuracy 0.6471951219512195\n",
      "iterations 110\n",
      "accuracy 0.6685853658536586\n",
      "iterations 120\n",
      "accuracy 0.6863170731707318\n",
      "iterations 130\n",
      "accuracy 0.7030487804878048\n",
      "iterations 140\n",
      "accuracy 0.7155853658536585\n",
      "iterations 150\n",
      "accuracy 0.728\n",
      "iterations 160\n",
      "accuracy 0.7375121951219512\n",
      "iterations 170\n",
      "accuracy 0.7473414634146341\n",
      "iterations 180\n",
      "accuracy 0.7558048780487805\n",
      "iterations 190\n",
      "accuracy 0.763219512195122\n",
      "iterations 200\n",
      "accuracy 0.7698048780487805\n",
      "iterations 210\n",
      "accuracy 0.775219512195122\n",
      "iterations 220\n",
      "accuracy 0.7817073170731708\n",
      "iterations 230\n",
      "accuracy 0.7864634146341464\n",
      "iterations 240\n",
      "accuracy 0.7912439024390244\n",
      "iterations 250\n",
      "accuracy 0.7958536585365854\n",
      "iterations 260\n",
      "accuracy 0.7991707317073171\n",
      "iterations 270\n",
      "accuracy 0.8031951219512196\n",
      "iterations 280\n",
      "accuracy 0.8065365853658537\n",
      "iterations 290\n",
      "accuracy 0.8103414634146342\n",
      "iterations 300\n",
      "accuracy 0.8137317073170731\n",
      "iterations 310\n",
      "accuracy 0.8165853658536585\n",
      "iterations 320\n",
      "accuracy 0.8191463414634146\n",
      "iterations 330\n",
      "accuracy 0.8215365853658536\n",
      "iterations 340\n",
      "accuracy 0.8238536585365853\n",
      "iterations 350\n",
      "accuracy 0.8258292682926829\n",
      "iterations 360\n",
      "accuracy 0.8281951219512195\n",
      "iterations 370\n",
      "accuracy 0.830170731707317\n",
      "iterations 380\n",
      "accuracy 0.8321219512195122\n",
      "iterations 390\n",
      "accuracy 0.834390243902439\n",
      "iterations 400\n",
      "accuracy 0.8359024390243902\n",
      "iterations 410\n",
      "accuracy 0.8378536585365853\n",
      "iterations 420\n",
      "accuracy 0.8394390243902439\n",
      "iterations 430\n",
      "accuracy 0.8409024390243902\n",
      "iterations 440\n",
      "accuracy 0.842780487804878\n",
      "iterations 450\n",
      "accuracy 0.8439268292682927\n",
      "iterations 460\n",
      "accuracy 0.8456829268292683\n",
      "iterations 470\n",
      "accuracy 0.8474390243902439\n",
      "iterations 480\n",
      "accuracy 0.848780487804878\n",
      "iterations 490\n",
      "accuracy 0.849780487804878\n",
      "iterations 500\n",
      "accuracy 0.8510487804878049\n",
      "iterations 510\n",
      "accuracy 0.8522439024390244\n",
      "iterations 520\n",
      "accuracy 0.8529756097560975\n",
      "iterations 530\n",
      "accuracy 0.854\n",
      "iterations 540\n",
      "accuracy 0.8551707317073171\n",
      "iterations 550\n",
      "accuracy 0.8558536585365853\n",
      "iterations 560\n",
      "accuracy 0.856780487804878\n",
      "iterations 570\n",
      "accuracy 0.858\n",
      "iterations 580\n",
      "accuracy 0.8586585365853658\n",
      "iterations 590\n",
      "accuracy 0.8594634146341463\n"
     ]
    }
   ],
   "source": [
    "w1,b1,w2,b2=gradiant_descent(X_train,Y_train,600,0.1)\n"
   ]
  },
  {
   "cell_type": "markdown",
   "metadata": {},
   "source": [
    "We habe acheived an accuracy of 85%"
   ]
  },
  {
   "cell_type": "code",
   "execution_count": 23,
   "metadata": {},
   "outputs": [],
   "source": [
    "def make_prediction(X,w1,b1,w2,b2):\n",
    "    _,_,_,A2=forward_prop(w1,b1,w2,b2,X)\n",
    "    prediction=get_predict(A2)\n",
    "    return prediction\n",
    "\n",
    "def test(index,w1,b1,w2,b2):\n",
    "    current=X_train[:,index,None]\n",
    "    prediction=make_prediction(X_train[:,index,None],w1,b1,w2,b2)\n",
    "    label=Y_train[index]\n",
    "    print(\"prediction:\",prediction)\n",
    "    print('Label:',label)\n",
    "    plt.figure(figsize=(3,3))\n",
    "    current=current.reshape((28,28))*255\n",
    "    plt.cm.gray\n",
    "    plt.imshow(current,cmap='inferno',interpolation='nearest')\n",
    "    plt.show()"
   ]
  },
  {
   "cell_type": "code",
   "execution_count": 24,
   "metadata": {},
   "outputs": [
    {
     "name": "stdout",
     "output_type": "stream",
     "text": [
      "prediction: [7]\n",
      "Label: 8\n"
     ]
    },
    {
     "data": {
      "image/png": "[encoded data removed]",
      "text/plain": [
       "<Figure size 300x300 with 1 Axes>"
      ]
     },
     "metadata": {},
     "output_type": "display_data"
    },
    {
     "name": "stdout",
     "output_type": "stream",
     "text": [
      "prediction: [3]\n",
      "Label: 3\n"
     ]
    },
    {
     "data": {
      "image/png": "[encoded data removed]",
      "text/plain": [
       "<Figure size 300x300 with 1 Axes>"
      ]
     },
     "metadata": {},
     "output_type": "display_data"
    },
    {
     "name": "stdout",
     "output_type": "stream",
     "text": [
      "prediction: [4]\n",
      "Label: 4\n"
     ]
    },
    {
     "data": {
      "image/png": "[encoded data removed]",
      "text/plain": [
       "<Figure size 300x300 with 1 Axes>"
      ]
     },
     "metadata": {},
     "output_type": "display_data"
    },
    {
     "name": "stdout",
     "output_type": "stream",
     "text": [
      "prediction: [0]\n",
      "Label: 0\n"
     ]
    },
    {
     "data": {
      "image/png": "[encoded data removed]",
      "text/plain": [
       "<Figure size 300x300 with 1 Axes>"
      ]
     },
     "metadata": {},
     "output_type": "display_data"
    },
    {
     "name": "stdout",
     "output_type": "stream",
     "text": [
      "prediction: [8]\n",
      "Label: 8\n"
     ]
    },
    {
     "data": {
      "image/png": "[encoded data removed]",
      "text/plain": [
       "<Figure size 300x300 with 1 Axes>"
      ]
     },
     "metadata": {},
     "output_type": "display_data"
    },
    {
     "name": "stdout",
     "output_type": "stream",
     "text": [
      "prediction: [7]\n",
      "Label: 7\n"
     ]
    },
    {
     "data": {
      "image/png": "[encoded data removed]",
      "text/plain": [
       "<Figure size 300x300 with 1 Axes>"
      ]
     },
     "metadata": {},
     "output_type": "display_data"
    },
    {
     "name": "stdout",
     "output_type": "stream",
     "text": [
      "prediction: [6]\n",
      "Label: 6\n"
     ]
    },
    {
     "data": {
      "image/png": "[encoded data removed]",
      "text/plain": [
       "<Figure size 300x300 with 1 Axes>"
      ]
     },
     "metadata": {},
     "output_type": "display_data"
    },
    {
     "name": "stdout",
     "output_type": "stream",
     "text": [
      "prediction: [2]\n",
      "Label: 2\n"
     ]
    },
    {
     "data": {
      "image/png": "[encoded data removed]",
      "text/plain": [
       "<Figure size 300x300 with 1 Axes>"
      ]
     },
     "metadata": {},
     "output_type": "display_data"
    },
    {
     "name": "stdout",
     "output_type": "stream",
     "text": [
      "prediction: [4]\n",
      "Label: 4\n"
     ]
    },
    {
     "data": {
      "image/png": "[encoded data removed]",
      "text/plain": [
       "<Figure size 300x300 with 1 Axes>"
      ]
     },
     "metadata": {},
     "output_type": "display_data"
    },
    {
     "name": "stdout",
     "output_type": "stream",
     "text": [
      "prediction: [9]\n",
      "Label: 9\n"
     ]
    },
    {
     "data": {
      "image/png": "[encoded data removed]",
      "text/plain": [
       "<Figure size 300x300 with 1 Axes>"
      ]
     },
     "metadata": {},
     "output_type": "display_data"
    },
    {
     "name": "stdout",
     "output_type": "stream",
     "text": [
      "prediction: [4]\n",
      "Label: 4\n"
     ]
    },
    {
     "data": {
      "image/png": "[encoded data removed]",
      "text/plain": [
       "<Figure size 300x300 with 1 Axes>"
      ]
     },
     "metadata": {},
     "output_type": "display_data"
    },
    {
     "name": "stdout",
     "output_type": "stream",
     "text": [
      "prediction: [9]\n",
      "Label: 9\n"
     ]
    },
    {
     "data": {
      "image/png": "[encoded data removed]",
      "text/plain": [
       "<Figure size 300x300 with 1 Axes>"
      ]
     },
     "metadata": {},
     "output_type": "display_data"
    }
   ],
   "source": [
    "for i in range(12):\n",
    "    test(i,w1,b1,w2,b2)\n"
   ]
  }
 ],
 "metadata": {
  "kernelspec": {
   "display_name": "Python 3",
   "language": "python",
   "name": "python3"
  },
  "language_info": {
   "codemirror_mode": {
    "name": "ipython",
    "version": 3
   },
   "file_extension": ".py",
   "mimetype": "text/x-python",
   "name": "python",
   "nbconvert_exporter": "python",
   "pygments_lexer": "ipython3",
   "version": "3.12.2"
  }
 },
 "nbformat": 4,
 "nbformat_minor": 2
}
